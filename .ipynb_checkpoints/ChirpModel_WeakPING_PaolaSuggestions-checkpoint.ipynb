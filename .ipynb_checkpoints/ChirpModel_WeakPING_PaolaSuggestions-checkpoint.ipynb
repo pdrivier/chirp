{
 "cells": [
  {
   "cell_type": "code",
   "execution_count": 1,
   "metadata": {},
   "outputs": [
    {
     "name": "stdout",
     "output_type": "stream",
     "text": [
      "Once deleted, variables cannot be recovered. Proceed (y/[n])? y\n"
     ]
    }
   ],
   "source": [
    "%reset\n",
    "%load_ext autoreload\n",
    "%matplotlib inline\n",
    "%config InlineBackend.figure_format = 'retina'\n",
    "\n",
    "import pandas as pd\n",
    "import numpy as np\n",
    "import scipy as sp\n",
    "\n",
    "from scipy import signal\n",
    "from scipy import io as sio\n",
    "\n",
    "import neurodsp as ndsp\n",
    "from neurodsp import spectral\n",
    "from neurodsp import filt\n",
    "\n",
    "from jupyterthemes import jtplot\n",
    "jtplot.style()\n",
    "\n",
    "import matplotlib.pyplot as plt\n",
    "import seaborn as sns"
   ]
  },
  {
   "cell_type": "markdown",
   "metadata": {},
   "source": [
    "# Generating a Weak PING\n",
    "Here, I modify several parameters at a time from Malerba et al. (2016) network model, following what I understood to be Paola's suggestion: \n",
    "<br>\n",
    "> increase gmaxEE + increase direct current to inhibitory neurons + increase gmaxII to synchronize your inhibitory population without having to totally crank up the direct current + slightly increase the direct current to pyramidal neurons to achieve 6 Hz oscillation in the firing rate figures\n",
    "\n"
   ]
  },
  {
   "cell_type": "markdown",
   "metadata": {},
   "source": [
    "## First attempt\n",
    "| model params | new value | orig value | \n",
    "| --- | --- | --- | \n",
    "| p.gmaxII | 5/(60/100) = 8.3 | 3/(80/100) = 3.75 | \n",
    "| p.gmaxEE | (5/(60/100))/2 = 4.17| (5/(60/100))/10 = 0.83|\n",
    "| p.Idc | 360 | 180 |\n"
   ]
  },
  {
   "cell_type": "code",
   "execution_count": null,
   "metadata": {},
   "outputs": [],
   "source": []
  }
 ],
 "metadata": {
  "kernelspec": {
   "display_name": "Python 3",
   "language": "python",
   "name": "python3"
  },
  "language_info": {
   "codemirror_mode": {
    "name": "ipython",
    "version": 3
   },
   "file_extension": ".py",
   "mimetype": "text/x-python",
   "name": "python",
   "nbconvert_exporter": "python",
   "pygments_lexer": "ipython3",
   "version": "3.6.5"
  }
 },
 "nbformat": 4,
 "nbformat_minor": 2
}
